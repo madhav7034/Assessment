{
  "nbformat": 4,
  "nbformat_minor": 0,
  "metadata": {
    "colab": {
      "provenance": [],
      "authorship_tag": "ABX9TyO42HyOg6/MGUjs7/PUKIcU",
      "include_colab_link": true
    },
    "kernelspec": {
      "name": "python3",
      "display_name": "Python 3"
    },
    "language_info": {
      "name": "python"
    }
  },
  "cells": [
    {
      "cell_type": "markdown",
      "metadata": {
        "id": "view-in-github",
        "colab_type": "text"
      },
      "source": [
        "<a href=\"https://colab.research.google.com/github/madhav7034/Assessment/blob/main/stat_Madhav.ipynb\" target=\"_parent\"><img src=\"https://colab.research.google.com/assets/colab-badge.svg\" alt=\"Open In Colab\"/></a>"
      ]
    },
    {
      "cell_type": "code",
      "execution_count": 6,
      "metadata": {
        "colab": {
          "base_uri": "https://localhost:8080/"
        },
        "id": "nevv-1o7itS4",
        "outputId": "75e262be-8c2b-42f9-b8e7-cd6f6bba1f76"
      },
      "outputs": [
        {
          "output_type": "stream",
          "name": "stdout",
          "text": [
            "Mean: 15.916666666666666\n",
            "Median: 15.5\n",
            "Mode: [15]\n",
            "Range: 12\n",
            "Variance: 11.076388888888888\n"
          ]
        }
      ],
      "source": [
        "#1 Temperature\n",
        "\n",
        "temps = [12, 15, 14, 16, 18, 20, 22, 19, 17, 15, 13, 10]\n",
        "\n",
        "mean_temp = sum(temps) / len(temps)\n",
        "\n",
        "sorted_temps = sorted(temps)\n",
        "n = len(sorted_temps)\n",
        "if n % 2 == 0:\n",
        "    median_temp = (sorted_temps[n//2 - 1] + sorted_temps[n//2]) / 2\n",
        "else:\n",
        "    median_temp = sorted_temps[n//2]\n",
        "\n",
        "modes = [x for x in set(temps) if temps.count(x) == max([temps.count(i) for i in temps])]\n",
        "if len(modes) == len(set(temps)):\n",
        "    mode_temp = None\n",
        "else:\n",
        "    mode_temp = modes\n",
        "\n",
        "range_temp = max(temps) - min(temps)\n",
        "\n",
        "mean_val = mean_temp\n",
        "variance_temp = sum((x - mean_val) ** 2 for x in temps) / len(temps)\n",
        "\n",
        "print(\"Mean:\", mean_temp)\n",
        "print(\"Median:\", median_temp)\n",
        "print(\"Mode:\", mode_temp)\n",
        "print(\"Range:\", range_temp)\n",
        "print(\"Variance:\", variance_temp)\n",
        "\n"
      ]
    },
    {
      "cell_type": "code",
      "source": [
        "#2 Height\n",
        "\n",
        "height = [150, 160, 165, 170, 155, 160, 162, 168]\n",
        "\n",
        "range = max(height) - min(height)\n",
        "\n",
        "mean = sum(height) / len(height)\n",
        "variance = sum((x - mean) ** 2 for x in height) / len(height)\n",
        "\n",
        "if variance >= 0:\n",
        "    std = variance ** 0.5\n",
        "else:\n",
        "    std = None\n",
        "\n",
        "print(\"Range:\", range)\n",
        "print(\"Variance:\", variance)\n",
        "print(\"Standard Deviation:\", std)\n"
      ],
      "metadata": {
        "colab": {
          "base_uri": "https://localhost:8080/"
        },
        "id": "kbhFla-8mg7X",
        "outputId": "052c04a9-f226-4f9d-85a8-691756cecac7"
      },
      "execution_count": 7,
      "outputs": [
        {
          "output_type": "stream",
          "name": "stdout",
          "text": [
            "Range: 20\n",
            "Variance: 38.1875\n",
            "Standard Deviation: 6.179603547154137\n"
          ]
        }
      ]
    },
    {
      "cell_type": "code",
      "source": [
        "#3 Weekly Expenses\n",
        "\n",
        "expenses=[ 200, 250, 300, 220, 270, 290, 310]\n",
        "mean = sum(expenses) / len(expenses)\n",
        "variance= sum((x-mean) ** 2 for x in expenses) / len(expenses)\n",
        "\n",
        "if variance >=0:\n",
        "  std = variance ** 0.5\n",
        "else:\n",
        "  std = None\n",
        "print('Standard Deviation: ',std)"
      ],
      "metadata": {
        "colab": {
          "base_uri": "https://localhost:8080/"
        },
        "id": "0WrshUgUpigL",
        "outputId": "4488b6ba-f124-4f8e-9df1-07a3fedf1622"
      },
      "execution_count": 8,
      "outputs": [
        {
          "output_type": "stream",
          "name": "stdout",
          "text": [
            "Standard Deviation:  38.438925848782034\n"
          ]
        }
      ]
    },
    {
      "cell_type": "code",
      "source": [
        "#4 Ad\n",
        "\n",
        "import numpy as np\n",
        "ad = [10, 20, 15, 25, 30]\n",
        "sales = [ 100, 150, 120, 180, 200]\n",
        "\n",
        "\n",
        "cov_matrix = np.cov(ad, sales, ddof=0)\n",
        "covariance = cov_matrix[0, 1]\n",
        "\n",
        "correlation = np.corrcoef(ad, sales)[0, 1]\n",
        "\n",
        "print(\"Covariance:\", covariance)\n",
        "print(\"Correlation:\", correlation)\n",
        "\n",
        "\n"
      ],
      "metadata": {
        "colab": {
          "base_uri": "https://localhost:8080/"
        },
        "id": "y-O0CpX-rddr",
        "outputId": "3eadb940-9de1-4701-f289-469ecd5bd762"
      },
      "execution_count": 9,
      "outputs": [
        {
          "output_type": "stream",
          "name": "stdout",
          "text": [
            "Covariance: 260.0\n",
            "Correlation: 0.9970544855015815\n"
          ]
        }
      ]
    },
    {
      "cell_type": "code",
      "source": [
        "#5 Study hours and exam score\n",
        "\n",
        "import numpy as np\n",
        "\n",
        "hours = [2, 4, 6, 8, 10]\n",
        "scores = [55, 60, 65, 70, 75]\n",
        "\n",
        "corr_matrix = np.corrcoef(hours, scores)\n",
        "corr = corr_matrix[0][1]\n",
        "\n",
        "quartiles = np.percentile(scores, [25, 50, 75])\n",
        "iqr = quartiles[2] - quartiles[0]\n",
        "\n",
        "print(\"Correlation Coefficient:\", corr)\n",
        "print(\"Quartiles:\", quartiles)\n",
        "print(\"IQR:\", iqr)\n"
      ],
      "metadata": {
        "colab": {
          "base_uri": "https://localhost:8080/"
        },
        "id": "eqEVBidPwa1X",
        "outputId": "5fd60ed9-3723-4c51-9bd3-fd371748cc98"
      },
      "execution_count": 10,
      "outputs": [
        {
          "output_type": "stream",
          "name": "stdout",
          "text": [
            "Correlation Coefficient: 1.0\n",
            "Quartiles: [60. 65. 70.]\n",
            "IQR: 10.0\n"
          ]
        }
      ]
    },
    {
      "cell_type": "code",
      "source": [
        "# 6. Monthly savings\n",
        "import numpy as np\n",
        "\n",
        "savings = [200,300,400,500,600,700,800,900,1000,1100]\n",
        "q1 = np.percentile(savings,25)\n",
        "q3 = np.percentile(savings,75)\n",
        "\n",
        "iqr = q3-q1\n",
        "lower = q1-1.5*iqr\n",
        "upper = q3+1.5*iqr\n",
        "\n",
        "outliers = [x for x in savings if x<lower or x>upper]\n",
        "print(\"Q1:\",q1,\"Q3:\",q3,\"IQR:\",iqr,\"Outliers:\",outliers)"
      ],
      "metadata": {
        "colab": {
          "base_uri": "https://localhost:8080/"
        },
        "id": "0lHk05XDz02n",
        "outputId": "ae395ac7-cd4d-42d3-f526-94e2d415e264"
      },
      "execution_count": 11,
      "outputs": [
        {
          "output_type": "stream",
          "name": "stdout",
          "text": [
            "Q1: 425.0 Q3: 875.0 IQR: 450.0 Outliers: []\n"
          ]
        }
      ]
    },
    {
      "cell_type": "code",
      "source": [
        "#7 Age of employeees\n",
        "\n",
        "import numpy as np\n",
        "\n",
        "def find_outliers_iqr(data):\n",
        "    data = np.array(data)\n",
        "\n",
        "    Q1 = np.percentile(data, 25)\n",
        "    Q3 = np.percentile(data, 75)\n",
        "    IQR = Q3 - Q1\n",
        "\n",
        "    lower_bound = Q1 - 1.5 * IQR\n",
        "    upper_bound = Q3 + 1.5 * IQR\n",
        "\n",
        "    outliers = data[(data < lower_bound) | (data > upper_bound)]\n",
        "\n",
        "    return outliers, lower_bound, upper_bound\n",
        "\n",
        "ages = [22, 25, 28, 30, 35, 40, 45, 50, 55, 100]\n",
        "\n",
        "outliers, lb, ub = find_outliers_iqr(ages)\n",
        "\n",
        "print(\"Lower Bound:\", lb)\n",
        "print(\"Upper Bound:\", ub)\n",
        "print(\"Outliers:\", outliers)"
      ],
      "metadata": {
        "colab": {
          "base_uri": "https://localhost:8080/"
        },
        "id": "kynjen1B0gzQ",
        "outputId": "d999b3cf-a337-43c4-c33a-9ef579563ed1"
      },
      "execution_count": 12,
      "outputs": [
        {
          "output_type": "stream",
          "name": "stdout",
          "text": [
            "Lower Bound: -1.875\n",
            "Upper Bound: 79.125\n",
            "Outliers: [100]\n"
          ]
        }
      ]
    },
    {
      "cell_type": "code",
      "source": [
        "#8 Customer Preference\n",
        "\n",
        "from scipy import stats\n",
        "\n",
        "prod_a = [50, 55, 60]\n",
        "prod_b = [30, 25, 35]\n",
        "prod_c = [20, 20, 25]\n",
        "\n",
        "chi2_stat, p_value, dof, expected = stats.chi2_contingency([prod_a, prod_b, prod_c])\n",
        "print(f\"Chi-square statistic: {chi2_stat:.3f}\")\n",
        "print(f\"P-value: {p_value:.3f}\")\n",
        "print(f\"Degrees of freedom: {dof}\")\n",
        "print(\"Expected frequencies table:\")"
      ],
      "metadata": {
        "id": "Ej-vW1JgDAB1",
        "colab": {
          "base_uri": "https://localhost:8080/"
        },
        "outputId": "22e63889-2430-44db-fff9-6f3b20d33c87"
      },
      "execution_count": 13,
      "outputs": [
        {
          "output_type": "stream",
          "name": "stdout",
          "text": [
            "Chi-square statistic: 0.877\n",
            "P-value: 0.928\n",
            "Degrees of freedom: 4\n",
            "Expected frequencies table:\n"
          ]
        }
      ]
    },
    {
      "cell_type": "code",
      "source": [
        "#9 Dataset: Sample weights (in kg) of a new diet program: 70, 68, 72, 71, 69, 73,\n",
        "#72, 74, 70, 71 Questions: a) Test the hypothesis that the mean weight after the\n",
        "# diet program is equal to 70 kg at a 5% significance level. b) Z-Scores\n",
        "\n",
        "\n",
        "import numpy as np\n",
        "from scipy.stats import ttest_1samp, zscore\n",
        "\n",
        "def one_sample_ttest(data, mu0):\n",
        "    t_stat, p_value = ttest_1samp(data, mu0)\n",
        "    return t_stat, p_value\n",
        "\n",
        "def calculate_zscores(data):\n",
        "    return zscore(data)\n",
        "\n",
        "weights = [70, 68, 72, 71, 69, 73, 72, 74, 70, 71]\n",
        "\n",
        "t_stat, p_value = one_sample_ttest(weights, 70)\n",
        "\n",
        "print(\"T-statistic:\", t_stat)\n",
        "print(\"p-value:\", p_value)\n",
        "\n",
        "alpha = 0.05\n",
        "if p_value < alpha:\n",
        "    print(\"Reject Null Hypothesis: Mean is significantly different from 70.\")\n",
        "else:\n",
        "    print(\"Fail to Reject Null Hypothesis: Mean is not significantly different from 70.\")\n",
        "\n",
        "zscores = calculate_zscores(weights)\n",
        "print(\"Z-scores:\", zscores)"
      ],
      "metadata": {
        "colab": {
          "base_uri": "https://localhost:8080/"
        },
        "id": "WfBcoSySf1Tu",
        "outputId": "ed384975-cc35-472a-ddd3-5933b0220ebf"
      },
      "execution_count": 17,
      "outputs": [
        {
          "output_type": "stream",
          "name": "stdout",
          "text": [
            "T-statistic: 1.732050807568877\n",
            "p-value: 0.11730680301423822\n",
            "Fail to Reject Null Hypothesis: Mean is not significantly different from 70.\n",
            "Z-scores: [-0.57735027 -1.73205081  0.57735027  0.         -1.15470054  1.15470054\n",
            "  0.57735027  1.73205081 -0.57735027  0.        ]\n"
          ]
        }
      ]
    },
    {
      "cell_type": "code",
      "source": [
        "#10 Dataset: Annual salaries of employees (in $1000s): 40, 42, 45, 47, 50, 52, 55,57, 60, 62 Questions: a) Calculate the z-scores for each salary.b) Interpret the z-scores.c) Normal Distribution\n",
        "\n",
        "import numpy as np\n",
        "\n",
        "\n",
        "salaries = np.array([40, 42, 45, 47, 50, 52, 55, 57, 60, 62])\n",
        "\n",
        "#1: Mean and Standard Deviation\n",
        "mean = np.mean(salaries)\n",
        "std_dev = np.std(salaries)\n",
        "\n",
        "print(f\"Mean : {mean:.2f}\")\n",
        "print(f\"Standard Deviation : {std_dev:.2f}\\n\")\n",
        "\n",
        "#2: Z-scores\n",
        "z_scores = (salaries - mean) / std_dev\n",
        "\n",
        "print(\"Z-scores for each salary:\")\n",
        "for sal, z in zip(salaries, z_scores):\n",
        "    print(f\"Salary {sal}k -> Z = {z:.2f}\")\n",
        "\n",
        "#3: Interpretation\n",
        "print(\"\\nInterpretation:\")\n",
        "for sal, z in zip(salaries, z_scores):\n",
        "    if z < 0:\n",
        "        print(f\"{sal}k is {abs(z):.2f} standard deviations BELOW the mean.\")\n",
        "    elif z > 0:\n",
        "        print(f\"{sal}k is {z:.2f} standard deviations ABOVE the mean.\")\n",
        "    else:\n",
        "        print(f\"{sal}k is exactly at the mean.\")"
      ],
      "metadata": {
        "colab": {
          "base_uri": "https://localhost:8080/"
        },
        "id": "Clfx8vXtiTu-",
        "outputId": "df49b9e5-edcd-4dba-a56c-977f11c26468"
      },
      "execution_count": 18,
      "outputs": [
        {
          "output_type": "stream",
          "name": "stdout",
          "text": [
            "Mean : 51.00\n",
            "Standard Deviation : 7.14\n",
            "\n",
            "Z-scores for each salary:\n",
            "Salary 40k -> Z = -1.54\n",
            "Salary 42k -> Z = -1.26\n",
            "Salary 45k -> Z = -0.84\n",
            "Salary 47k -> Z = -0.56\n",
            "Salary 50k -> Z = -0.14\n",
            "Salary 52k -> Z = 0.14\n",
            "Salary 55k -> Z = 0.56\n",
            "Salary 57k -> Z = 0.84\n",
            "Salary 60k -> Z = 1.26\n",
            "Salary 62k -> Z = 1.54\n",
            "\n",
            "Interpretation:\n",
            "40k is 1.54 standard deviations BELOW the mean.\n",
            "42k is 1.26 standard deviations BELOW the mean.\n",
            "45k is 0.84 standard deviations BELOW the mean.\n",
            "47k is 0.56 standard deviations BELOW the mean.\n",
            "50k is 0.14 standard deviations BELOW the mean.\n",
            "52k is 0.14 standard deviations ABOVE the mean.\n",
            "55k is 0.56 standard deviations ABOVE the mean.\n",
            "57k is 0.84 standard deviations ABOVE the mean.\n",
            "60k is 1.26 standard deviations ABOVE the mean.\n",
            "62k is 1.54 standard deviations ABOVE the mean.\n"
          ]
        }
      ]
    }
  ]
}