{
  "nbformat": 4,
  "nbformat_minor": 0,
  "metadata": {
    "colab": {
      "provenance": [],
      "authorship_tag": "ABX9TyP4nL8ZDdJa88WStviVDM1F",
      "include_colab_link": true
    },
    "kernelspec": {
      "name": "python3",
      "display_name": "Python 3"
    },
    "language_info": {
      "name": "python"
    }
  },
  "cells": [
    {
      "cell_type": "markdown",
      "metadata": {
        "id": "view-in-github",
        "colab_type": "text"
      },
      "source": [
        "<a href=\"https://colab.research.google.com/github/madhav7034/Assessment/blob/main/PythonCase_Madhav.ipynb\" target=\"_parent\"><img src=\"https://colab.research.google.com/assets/colab-badge.svg\" alt=\"Open In Colab\"/></a>"
      ]
    },
    {
      "cell_type": "code",
      "execution_count": 1,
      "metadata": {
        "id": "qUKdL4tUO7eP",
        "colab": {
          "base_uri": "https://localhost:8080/"
        },
        "outputId": "2fb24629-e179-4da0-ee7e-cdd03d27fc6e"
      },
      "outputs": [
        {
          "output_type": "stream",
          "name": "stdout",
          "text": [
            "Enter item name (or type 'done' to finish): toys\n",
            "Enter price of 'toys': ₹5000\n",
            "Enter item name (or type 'done' to finish): done\n",
            "\n",
            "Total before discount: ₹5000.00\n",
            "Discount applied: ₹500.00\n",
            "Final bill amount: ₹4500.00\n"
          ]
        }
      ],
      "source": [
        "#1.\n",
        "\"\"\"\n",
        "Grocery Store Billing\n",
        "A grocery store wants to automate billing.\n",
        "● Take the names and prices of items from the user until they type \"done\".\n",
        "● Print the total bill.\n",
        "● If total bill > ₹500, apply 10% discount.\n",
        "\"\"\"\n",
        "def grocery_store():\n",
        "    total = 0.0\n",
        "    while True:\n",
        "        item = input(\"Enter item name (or type 'done' to finish): \")\n",
        "        if item.lower() == \"done\":\n",
        "            break\n",
        "        try:\n",
        "            price = float(input(f\"Enter price of '{item}': ₹\"))\n",
        "            total += price\n",
        "        except ValueError:\n",
        "            print(\"Invalid price. Please enter a number.\")\n",
        "\n",
        "    print(f\"\\nTotal before discount: ₹{total:.2f}\")\n",
        "\n",
        "    if total > 500:\n",
        "        discount = total * 0.10\n",
        "        total -= discount\n",
        "        print(f\"Discount applied: ₹{discount:.2f}\")\n",
        "\n",
        "    print(f\"Final bill amount: ₹{total:.2f}\")\n",
        "\n",
        "grocery_store()\n",
        "\n"
      ]
    },
    {
      "cell_type": "code",
      "source": [
        "#2\n",
        "\"\"\"\n",
        "Exam Result Calculator\n",
        "A school stores student marks in a list.\n",
        "● Input marks for 5 subjects.\n",
        "● Calculate percentage.\n",
        "● Print grade:\n",
        "○ ≥ 90: A\n",
        "○ ≥ 75: B\n",
        "○ ≥ 50: C\n",
        "○ else: Fail\n",
        "\"\"\"\n",
        "def exam_result():\n",
        "    marks = []\n",
        "    for i in range(5):\n",
        "        mark = float(input(f\"Enter marks for subject {i+1}: \"))\n",
        "        marks.append(mark)\n",
        "    percentage = sum(marks) / 5\n",
        "    print(f\"Percentage: {percentage:.2f}%\")\n",
        "    if percentage >= 90:\n",
        "        grade = 'A'\n",
        "    elif percentage >= 75:\n",
        "        grade = 'B'\n",
        "    elif percentage >= 50:\n",
        "        grade = 'C'\n",
        "    else:\n",
        "        grade = 'Fail'\n",
        "    print(\"Grade:\", grade)\n",
        "exam_result()"
      ],
      "metadata": {
        "colab": {
          "base_uri": "https://localhost:8080/"
        },
        "id": "-dc3-gXFPsmg",
        "outputId": "3ab328ac-f277-4581-c842-15b46e86d26b"
      },
      "execution_count": null,
      "outputs": [
        {
          "output_type": "stream",
          "name": "stdout",
          "text": [
            "Enter marks for subject 1: 70\n",
            "Enter marks for subject 2: 68\n",
            "Enter marks for subject 3: 77\n",
            "Enter marks for subject 4: 89\n",
            "Enter marks for subject 5: 90\n",
            "Percentage: 78.80%\n",
            "Grade: B\n"
          ]
        }
      ]
    },
    {
      "cell_type": "code",
      "source": [
        "#3\n",
        "\"\"\"\n",
        "ATM Simulation\n",
        "Simulate an ATM with:\n",
        "● Starting balance = ₹1000\n",
        "● Options: Deposit, Withdraw, Check balance, Exit\n",
        "● Prevent withdrawal if funds are insufficient.\n",
        "\"\"\"\n",
        "def atm():\n",
        "    balance = 1000\n",
        "    while True:\n",
        "        print(\"\\n1. Deposit\\n2. Withdraw\\n3. Check Balance\\n4. Exit\")\n",
        "        choice = input(\"Choose option: \")\n",
        "        if choice == '1':\n",
        "            amount = float(input(\"Enter amount to deposit: ₹\"))\n",
        "            balance += amount\n",
        "        elif choice == '2':\n",
        "            amount = float(input(\"Enter amount to withdraw: ₹\"))\n",
        "            if amount <= balance:\n",
        "                balance -= amount\n",
        "            else:\n",
        "                print(\"Insufficient balance.\")\n",
        "        elif choice == '3':\n",
        "            print(f\"Balance: ₹{balance:.2f}\")\n",
        "        elif choice == '4':\n",
        "            break\n",
        "        else:\n",
        "            print(\"Invalid choice.\")\n",
        "atm()"
      ],
      "metadata": {
        "colab": {
          "base_uri": "https://localhost:8080/"
        },
        "id": "lO8XdHf0P39F",
        "outputId": "cde7158e-ddda-482a-b8a1-837318429cf6"
      },
      "execution_count": null,
      "outputs": [
        {
          "name": "stdout",
          "output_type": "stream",
          "text": [
            "\n",
            "1. Deposit\n",
            "2. Withdraw\n",
            "3. Check Balance\n",
            "4. Exit\n",
            "Choose option: 1\n",
            "Enter amount to deposit: ₹10000\n",
            "\n",
            "1. Deposit\n",
            "2. Withdraw\n",
            "3. Check Balance\n",
            "4. Exit\n",
            "Choose option: 3\n",
            "Balance: ₹11000.00\n",
            "\n",
            "1. Deposit\n",
            "2. Withdraw\n",
            "3. Check Balance\n",
            "4. Exit\n",
            "Choose option: 2\n",
            "Enter amount to withdraw: ₹120000\n",
            "Insufficient balance.\n",
            "\n",
            "1. Deposit\n",
            "2. Withdraw\n",
            "3. Check Balance\n",
            "4. Exit\n",
            "Choose option: 4\n"
          ]
        }
      ]
    },
    {
      "cell_type": "code",
      "source": [
        "#4\n",
        "\"\"\"\n",
        "Cricket Score Tracker\n",
        "Store player scores in a dictionary.\n",
        "● Add 5 players with scores.\n",
        "● Find and print top scorer’s name and score.\n",
        "● Update a player’s score after a match.\n",
        "\"\"\"\n",
        "def cricket():\n",
        "    players = {}\n",
        "    for i in range(5):\n",
        "        name = input(f\"Enter name of player {i+1}: \")\n",
        "        score = int(input(f\"Enter score for {name}: \"))\n",
        "        players[name] = score\n",
        "\n",
        "    top_player = max(players, key=players.get)\n",
        "    print(f\"Top scorer: {top_player} with {players[top_player]} runs\")\n",
        "\n",
        "    update_name = input(\"Enter player name to update score: \")\n",
        "    if update_name in players:\n",
        "        new_score = int(input(\"Enter new score: \"))\n",
        "        players[update_name] = new_score\n",
        "        print(f\"{update_name}'s score updated to {new_score}\")\n",
        "cricket()"
      ],
      "metadata": {
        "colab": {
          "base_uri": "https://localhost:8080/"
        },
        "id": "C_RHdUKlTO3_",
        "outputId": "c3f57161-6e1e-48ed-b158-8b87f14b0409"
      },
      "execution_count": null,
      "outputs": [
        {
          "output_type": "stream",
          "name": "stdout",
          "text": [
            "Enter name of player 1: livin\n",
            "Enter score for livin: 0\n",
            "Enter name of player 2: joseph\n",
            "Enter score for joseph: 2\n",
            "Enter name of player 3: roshin\n",
            "Enter score for roshin: 10\n",
            "Enter name of player 4: adhil\n",
            "Enter score for adhil: 30\n",
            "Enter name of player 5: riyan\n",
            "Enter score for riyan: 3\n",
            "Top scorer: adhil with 30 runs\n",
            "Enter player name to update score: livin\n",
            "Enter new score: 2\n",
            "livin's score updated to 2\n"
          ]
        }
      ]
    },
    {
      "cell_type": "code",
      "source": [
        "#5\n",
        "\"\"\"\n",
        "Restaurant Order System\n",
        "● Menu stored in dictionary (item: price).\n",
        "● Take multiple orders from user.\n",
        "● Print final bill amount.\n",
        "● If order contains \"Pizza\", give ₹50 off.\n",
        "\"\"\"\n",
        "def restaurant():\n",
        "    menu = {\"Burger\": 150, \"Pizza\": 250, \"Pasta\": 200, \"Salad\": 100}\n",
        "    order = []\n",
        "    while True:\n",
        "        item = input(\"Enter item to order (or 'done'): \")\n",
        "        if item.lower() == 'done':\n",
        "            break\n",
        "        if item in menu:\n",
        "            order.append(item)\n",
        "        else:\n",
        "            print(\"Item not on menu.\")\n",
        "    bill = sum(menu[item] for item in order)\n",
        "    if \"Pizza\" in order:\n",
        "        bill -= 50\n",
        "    print(\"Final bill: ₹\", bill)\n",
        "restaurant()"
      ],
      "metadata": {
        "colab": {
          "base_uri": "https://localhost:8080/"
        },
        "id": "oH1lz5mLThoY",
        "outputId": "c6edc13c-4084-4f49-995c-02017a45c07a"
      },
      "execution_count": null,
      "outputs": [
        {
          "output_type": "stream",
          "name": "stdout",
          "text": [
            "Enter item to order (or 'done'): Pizza\n",
            "Enter item to order (or 'done'): done\n",
            "Final bill: ₹ 200\n"
          ]
        }
      ]
    },
    {
      "cell_type": "code",
      "source": [
        "#6\n",
        "\"\"\"\n",
        "Temperature Conversion Tool\n",
        "Write a program that:\n",
        "● Asks user for temperature in Celsius.\n",
        "● Converts to Fahrenheit using formula:\n",
        "\"\"\"\n",
        "def temperature():\n",
        "    celsius = float(input(\"Enter temperature in Celsius: \"))\n",
        "    fahrenheit = (celsius * 9/5) + 32\n",
        "    print(f\"{celsius}°C is {fahrenheit:.2f}°F\")\n",
        "temperature()"
      ],
      "metadata": {
        "colab": {
          "base_uri": "https://localhost:8080/"
        },
        "id": "iWWlVY8WT_YI",
        "outputId": "3cb52716-c747-4675-e42b-4a0a810ec66c"
      },
      "execution_count": null,
      "outputs": [
        {
          "output_type": "stream",
          "name": "stdout",
          "text": [
            "Enter temperature in Celsius: 100\n",
            "100.0°C is 212.00°F\n"
          ]
        }
      ]
    },
    {
      "cell_type": "code",
      "source": [
        "#7\n",
        "\"\"\"\n",
        "Online Shopping Cart\n",
        "● Create a cart as a list.\n",
        "● Allow user to add items, remove items, and view cart.\n",
        "● Exit when user types \"checkout\".\n",
        "\"\"\"\n",
        "def shopping():\n",
        "    cart = []\n",
        "    while True:\n",
        "        action = input(\"Add / Remove / View / Checkout: \").lower()\n",
        "        if action == \"add\":\n",
        "            item = input(\"Enter item to add: \")\n",
        "            cart.append(item)\n",
        "        elif action == \"remove\":\n",
        "            item = input(\"Enter item to remove: \")\n",
        "            if item in cart:\n",
        "                cart.remove(item)\n",
        "            else:\n",
        "                print(\"Item not in cart.\")\n",
        "        elif action == \"view\":\n",
        "            print(\"Cart:\", cart)\n",
        "        elif action == \"checkout\":\n",
        "            print(\"Final Cart:\", cart)\n",
        "            break\n",
        "        else:\n",
        "            print(\"Invalid action.\")\n",
        "shopping()"
      ],
      "metadata": {
        "colab": {
          "base_uri": "https://localhost:8080/"
        },
        "id": "MNQx_hljUbmA",
        "outputId": "b00930a1-33db-4217-ac36-e6ab08f79cd1"
      },
      "execution_count": null,
      "outputs": [
        {
          "output_type": "stream",
          "name": "stdout",
          "text": [
            "Add / Remove / View / Checkout: add\n",
            "Enter item to add: watches\n",
            "Add / Remove / View / Checkout: add\n",
            "Enter item to add: toys\n",
            "Add / Remove / View / Checkout: remove\n",
            "Enter item to remove: toys\n",
            "Add / Remove / View / Checkout: checkout\n",
            "Final Cart: ['watches']\n"
          ]
        }
      ]
    },
    {
      "cell_type": "code",
      "source": [
        "#8\n",
        "\"\"\"\n",
        "Student Attendance Tracker\n",
        "● Store student names in a list.\n",
        "● Mark attendance as P or A.\n",
        "● Print the total number of present and absent students.\n",
        "\"\"\"\n",
        "def attendance():\n",
        "    students = input(\"Enter student names separated by commas: \").split(\",\")\n",
        "    present = 0\n",
        "    absent = 0\n",
        "    for student in students:\n",
        "        status = input(f\"Mark attendance for {student.strip()} (P/A): \").upper()\n",
        "        if status == 'P':\n",
        "            present += 1\n",
        "        else:\n",
        "            absent += 1\n",
        "    print(f\"Present: {present}, Absent: {absent}\")\n",
        "attendance()"
      ],
      "metadata": {
        "colab": {
          "base_uri": "https://localhost:8080/"
        },
        "id": "Y6vmpF0FU4Sx",
        "outputId": "ac046c76-4b2d-4772-c475-cc3c261e7016"
      },
      "execution_count": null,
      "outputs": [
        {
          "output_type": "stream",
          "name": "stdout",
          "text": [
            "Enter student names separated by commas: Livin,Joseph\n",
            "Mark attendance for Livin (P/A): A\n",
            "Mark attendance for Joseph (P/A): P\n",
            "Present: 1, Absent: 1\n"
          ]
        }
      ]
    },
    {
      "cell_type": "code",
      "source": [
        "#9\n",
        "\"\"\"\n",
        "Cinema Ticket Booking System\n",
        "Create a program where users can book movie tickets. A theater has 50 seats in total. Each\n",
        "ticket costs ₹120.\n",
        "● Ask the user how many tickets they want.\n",
        "● If enough seats are available → confirm booking and reduce available seats.\n",
        "● If not enough seats → show an error message.\n",
        "● Show remaining seats after each booking.\n",
        "\"\"\"\n",
        "def cinema():\n",
        "    total_seats = 50\n",
        "    ticket_price = 120\n",
        "\n",
        "    while total_seats > 0:\n",
        "        print(f\"\\nAvailable seats: {total_seats}\")\n",
        "        try:\n",
        "            tickets = int(input(\"How many tickets do you want to book? \"))\n",
        "\n",
        "            if tickets <= 0:\n",
        "                print(\"Please enter a number greater than 0.\")\n",
        "            elif tickets > total_seats:\n",
        "                print(f\"Only {total_seats} seats available. Cannot book {tickets} tickets.\")\n",
        "            else:\n",
        "                cost = tickets * ticket_price\n",
        "                total_seats -= tickets\n",
        "                print(f\"Booking confirmed for {tickets} tickets. Total cost: ₹{cost}\")\n",
        "                print(f\"Remaining seats: {total_seats}\")\n",
        "        except ValueError:\n",
        "            print(\"Invalid input. Please enter a valid number.\")\n",
        "\n",
        "    print(\"\\nAll tickets sold out. Booking closed.\")\n",
        "cinema()\n"
      ],
      "metadata": {
        "colab": {
          "base_uri": "https://localhost:8080/"
        },
        "id": "vy_Txr-4VqFV",
        "outputId": "e538a968-15e1-4f88-e4c4-87b23bd2d0f1"
      },
      "execution_count": null,
      "outputs": [
        {
          "output_type": "stream",
          "name": "stdout",
          "text": [
            "\n",
            "Available seats: 50\n",
            "How many tickets do you want to book? 50\n",
            "Booking confirmed for 50 tickets. Total cost: ₹6000\n",
            "Remaining seats: 0\n",
            "\n",
            "All tickets sold out. Booking closed.\n"
          ]
        }
      ]
    },
    {
      "cell_type": "code",
      "source": [
        "#10\n",
        "\"\"\"\n",
        "Bank Loan Eligibility Checker\n",
        "A bank provides loans only if:\n",
        "● Salary ≥ 25,000\n",
        "● Credit Score ≥ 650\n",
        "● Age between 21 and 60\n",
        "Ask the user for salary, credit score, and age, then decide if they are eligible.\n",
        "\"\"\"\n",
        "def loan():\n",
        "    salary = float(input(\"Enter your monthly salary: ₹\"))\n",
        "    credit_score = int(input(\"Enter your credit score: \"))\n",
        "    age = int(input(\"Enter your age: \"))\n",
        "\n",
        "    if salary >= 25000 and credit_score >= 650 and 21 <= age <= 60:\n",
        "        print(\"You are eligible for a loan.\")\n",
        "    else:\n",
        "        print(\"You are NOT eligible for a loan.\")\n",
        "loan()"
      ],
      "metadata": {
        "colab": {
          "base_uri": "https://localhost:8080/"
        },
        "id": "ZB0OtS1AV6Q2",
        "outputId": "63ebddf6-bdea-45e0-c338-cc01aa75a578"
      },
      "execution_count": null,
      "outputs": [
        {
          "output_type": "stream",
          "name": "stdout",
          "text": [
            "Enter your monthly salary: ₹45000\n",
            "Enter your credit score: 678\n",
            "Enter your age: 22\n",
            "You are eligible for a loan.\n"
          ]
        }
      ]
    },
    {
      "cell_type": "code",
      "source": [],
      "metadata": {
        "id": "M8tdED2zXNZN"
      },
      "execution_count": null,
      "outputs": []
    }
  ]
}